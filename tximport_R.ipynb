{
 "cells": [
  {
   "cell_type": "code",
   "execution_count": 25,
   "metadata": {
    "vscode": {
     "languageId": "r"
    }
   },
   "outputs": [],
   "source": [
    "library(tximport)\n",
    "library(readr)"
   ]
  },
  {
   "cell_type": "code",
   "execution_count": 41,
   "metadata": {
    "vscode": {
     "languageId": "r"
    }
   },
   "outputs": [
    {
     "name": "stderr",
     "output_type": "stream",
     "text": [
      "Parsed with column specification:\n",
      "cols(\n",
      "  TXNAME = col_character(),\n",
      "  GENEID = col_character()\n",
      ")\n"
     ]
    }
   ],
   "source": [
    "tx2knownGene <- read_delim('gencode.vM19.metadata.MGI.gz', '\\t', col_names = c('TXNAME', 'GENEID'))"
   ]
  },
  {
   "cell_type": "code",
   "execution_count": 3,
   "metadata": {
    "vscode": {
     "languageId": "r"
    }
   },
   "outputs": [],
   "source": [
    "exp.table <- read.csv('tpTregTconv_rnaseq_experiment_table.csv')"
   ]
  },
  {
   "cell_type": "code",
   "execution_count": 4,
   "metadata": {
    "vscode": {
     "languageId": "r"
    }
   },
   "outputs": [
    {
     "data": {
      "text/html": [
       "<table>\n",
       "<thead><tr><th scope=col>name</th><th scope=col>fastq_file</th><th scope=col>Layout</th><th scope=col>CellType</th><th scope=col>tissue_type</th></tr></thead>\n",
       "<tbody>\n",
       "\t<tr><td>Treg_LN_1   </td><td>SRR5385247  </td><td>SE          </td><td>Treg        </td><td>LymphNodes  </td></tr>\n",
       "\t<tr><td>Treg_LN_2   </td><td>SRR5385248  </td><td>SE          </td><td>Treg        </td><td>LymphNodes  </td></tr>\n",
       "\t<tr><td>Tconv_LN_1  </td><td>SRR5385249  </td><td>SE          </td><td>Tconv       </td><td>LymphNodes  </td></tr>\n",
       "\t<tr><td>Tconv_LN_2  </td><td>SRR5385250  </td><td>SE          </td><td>Tconv       </td><td>LymphNodes  </td></tr>\n",
       "\t<tr><td>Treg_Thym_1 </td><td>SRR5385251  </td><td>SE          </td><td>Treg        </td><td>Thymus      </td></tr>\n",
       "\t<tr><td>Treg_Thym_2 </td><td>SRR5385252  </td><td>SE          </td><td>Treg        </td><td>Thymus      </td></tr>\n",
       "\t<tr><td>Tconv_Thym_1</td><td>SRR5385255  </td><td>SE          </td><td>Tconv       </td><td>Thymus      </td></tr>\n",
       "\t<tr><td>Tconv_Thym_2</td><td>SRR5385256  </td><td>SE          </td><td>Tconv       </td><td>Thymus      </td></tr>\n",
       "</tbody>\n",
       "</table>\n"
      ],
      "text/latex": [
       "\\begin{tabular}{r|lllll}\n",
       " name & fastq\\_file & Layout & CellType & tissue\\_type\\\\\n",
       "\\hline\n",
       "\t Treg\\_LN\\_1    & SRR5385247       & SE               & Treg             & LymphNodes      \\\\\n",
       "\t Treg\\_LN\\_2    & SRR5385248       & SE               & Treg             & LymphNodes      \\\\\n",
       "\t Tconv\\_LN\\_1   & SRR5385249       & SE               & Tconv            & LymphNodes      \\\\\n",
       "\t Tconv\\_LN\\_2   & SRR5385250       & SE               & Tconv            & LymphNodes      \\\\\n",
       "\t Treg\\_Thym\\_1  & SRR5385251       & SE               & Treg             & Thymus          \\\\\n",
       "\t Treg\\_Thym\\_2  & SRR5385252       & SE               & Treg             & Thymus          \\\\\n",
       "\t Tconv\\_Thym\\_1 & SRR5385255       & SE               & Tconv            & Thymus          \\\\\n",
       "\t Tconv\\_Thym\\_2 & SRR5385256       & SE               & Tconv            & Thymus          \\\\\n",
       "\\end{tabular}\n"
      ],
      "text/markdown": [
       "\n",
       "name | fastq_file | Layout | CellType | tissue_type | \n",
       "|---|---|---|---|---|---|---|---|\n",
       "| Treg_LN_1    | SRR5385247   | SE           | Treg         | LymphNodes   | \n",
       "| Treg_LN_2    | SRR5385248   | SE           | Treg         | LymphNodes   | \n",
       "| Tconv_LN_1   | SRR5385249   | SE           | Tconv        | LymphNodes   | \n",
       "| Tconv_LN_2   | SRR5385250   | SE           | Tconv        | LymphNodes   | \n",
       "| Treg_Thym_1  | SRR5385251   | SE           | Treg         | Thymus       | \n",
       "| Treg_Thym_2  | SRR5385252   | SE           | Treg         | Thymus       | \n",
       "| Tconv_Thym_1 | SRR5385255   | SE           | Tconv        | Thymus       | \n",
       "| Tconv_Thym_2 | SRR5385256   | SE           | Tconv        | Thymus       | \n",
       "\n",
       "\n"
      ],
      "text/plain": [
       "  name         fastq_file Layout CellType tissue_type\n",
       "1 Treg_LN_1    SRR5385247 SE     Treg     LymphNodes \n",
       "2 Treg_LN_2    SRR5385248 SE     Treg     LymphNodes \n",
       "3 Tconv_LN_1   SRR5385249 SE     Tconv    LymphNodes \n",
       "4 Tconv_LN_2   SRR5385250 SE     Tconv    LymphNodes \n",
       "5 Treg_Thym_1  SRR5385251 SE     Treg     Thymus     \n",
       "6 Treg_Thym_2  SRR5385252 SE     Treg     Thymus     \n",
       "7 Tconv_Thym_1 SRR5385255 SE     Tconv    Thymus     \n",
       "8 Tconv_Thym_2 SRR5385256 SE     Tconv    Thymus     "
      ]
     },
     "metadata": {},
     "output_type": "display_data"
    }
   ],
   "source": [
    "exp.table"
   ]
  },
  {
   "cell_type": "code",
   "execution_count": 45,
   "metadata": {
    "vscode": {
     "languageId": "r"
    }
   },
   "outputs": [
    {
     "data": {
      "text/html": [
       "<ol class=list-inline>\n",
       "\t<li>Treg_LN_1</li>\n",
       "\t<li>Treg_LN_2</li>\n",
       "\t<li>Tconv_LN_1</li>\n",
       "\t<li>Tconv_LN_2</li>\n",
       "\t<li>Treg_Thym_1</li>\n",
       "\t<li>Treg_Thym_2</li>\n",
       "\t<li>Tconv_Thym_1</li>\n",
       "\t<li>Tconv_Thym_2</li>\n",
       "</ol>\n",
       "\n",
       "<details>\n",
       "\t<summary style=display:list-item;cursor:pointer>\n",
       "\t\t<strong>Levels</strong>:\n",
       "\t</summary>\n",
       "\t<ol class=list-inline>\n",
       "\t\t<li>'Tconv_LN_1'</li>\n",
       "\t\t<li>'Tconv_LN_2'</li>\n",
       "\t\t<li>'Tconv_Thym_1'</li>\n",
       "\t\t<li>'Tconv_Thym_2'</li>\n",
       "\t\t<li>'Treg_LN_1'</li>\n",
       "\t\t<li>'Treg_LN_2'</li>\n",
       "\t\t<li>'Treg_Thym_1'</li>\n",
       "\t\t<li>'Treg_Thym_2'</li>\n",
       "\t</ol>\n",
       "</details>"
      ],
      "text/latex": [
       "\\begin{enumerate*}\n",
       "\\item Treg\\_LN\\_1\n",
       "\\item Treg\\_LN\\_2\n",
       "\\item Tconv\\_LN\\_1\n",
       "\\item Tconv\\_LN\\_2\n",
       "\\item Treg\\_Thym\\_1\n",
       "\\item Treg\\_Thym\\_2\n",
       "\\item Tconv\\_Thym\\_1\n",
       "\\item Tconv\\_Thym\\_2\n",
       "\\end{enumerate*}\n",
       "\n",
       "\\emph{Levels}: \\begin{enumerate*}\n",
       "\\item 'Tconv\\_LN\\_1'\n",
       "\\item 'Tconv\\_LN\\_2'\n",
       "\\item 'Tconv\\_Thym\\_1'\n",
       "\\item 'Tconv\\_Thym\\_2'\n",
       "\\item 'Treg\\_LN\\_1'\n",
       "\\item 'Treg\\_LN\\_2'\n",
       "\\item 'Treg\\_Thym\\_1'\n",
       "\\item 'Treg\\_Thym\\_2'\n",
       "\\end{enumerate*}\n"
      ],
      "text/markdown": [
       "1. Treg_LN_1\n",
       "2. Treg_LN_2\n",
       "3. Tconv_LN_1\n",
       "4. Tconv_LN_2\n",
       "5. Treg_Thym_1\n",
       "6. Treg_Thym_2\n",
       "7. Tconv_Thym_1\n",
       "8. Tconv_Thym_2\n",
       "\n",
       "\n",
       "\n",
       "**Levels**: 1. 'Tconv_LN_1'\n",
       "2. 'Tconv_LN_2'\n",
       "3. 'Tconv_Thym_1'\n",
       "4. 'Tconv_Thym_2'\n",
       "5. 'Treg_LN_1'\n",
       "6. 'Treg_LN_2'\n",
       "7. 'Treg_Thym_1'\n",
       "8. 'Treg_Thym_2'\n",
       "\n",
       "\n"
      ],
      "text/plain": [
       "[1] Treg_LN_1    Treg_LN_2    Tconv_LN_1   Tconv_LN_2   Treg_Thym_1 \n",
       "[6] Treg_Thym_2  Tconv_Thym_1 Tconv_Thym_2\n",
       "8 Levels: Tconv_LN_1 Tconv_LN_2 Tconv_Thym_1 Tconv_Thym_2 ... Treg_Thym_2"
      ]
     },
     "metadata": {},
     "output_type": "display_data"
    }
   ],
   "source": [
    "exp.table$name"
   ]
  },
  {
   "cell_type": "code",
   "execution_count": 13,
   "metadata": {
    "vscode": {
     "languageId": "r"
    }
   },
   "outputs": [
    {
     "data": {
      "text/html": [
       "<ol class=list-inline>\n",
       "\t<li>'salmon_output_SRR5385247'</li>\n",
       "\t<li>'salmon_output_SRR5385248'</li>\n",
       "\t<li>'salmon_output_SRR5385249'</li>\n",
       "\t<li>'salmon_output_SRR5385250'</li>\n",
       "\t<li>'salmon_output_SRR5385251'</li>\n",
       "\t<li>'salmon_output_SRR5385252'</li>\n",
       "\t<li>'salmon_output_SRR5385255'</li>\n",
       "\t<li>'salmon_output_SRR5385256'</li>\n",
       "</ol>\n"
      ],
      "text/latex": [
       "\\begin{enumerate*}\n",
       "\\item 'salmon\\_output\\_SRR5385247'\n",
       "\\item 'salmon\\_output\\_SRR5385248'\n",
       "\\item 'salmon\\_output\\_SRR5385249'\n",
       "\\item 'salmon\\_output\\_SRR5385250'\n",
       "\\item 'salmon\\_output\\_SRR5385251'\n",
       "\\item 'salmon\\_output\\_SRR5385252'\n",
       "\\item 'salmon\\_output\\_SRR5385255'\n",
       "\\item 'salmon\\_output\\_SRR5385256'\n",
       "\\end{enumerate*}\n"
      ],
      "text/markdown": [
       "1. 'salmon_output_SRR5385247'\n",
       "2. 'salmon_output_SRR5385248'\n",
       "3. 'salmon_output_SRR5385249'\n",
       "4. 'salmon_output_SRR5385250'\n",
       "5. 'salmon_output_SRR5385251'\n",
       "6. 'salmon_output_SRR5385252'\n",
       "7. 'salmon_output_SRR5385255'\n",
       "8. 'salmon_output_SRR5385256'\n",
       "\n",
       "\n"
      ],
      "text/plain": [
       "[1] \"salmon_output_SRR5385247\" \"salmon_output_SRR5385248\"\n",
       "[3] \"salmon_output_SRR5385249\" \"salmon_output_SRR5385250\"\n",
       "[5] \"salmon_output_SRR5385251\" \"salmon_output_SRR5385252\"\n",
       "[7] \"salmon_output_SRR5385255\" \"salmon_output_SRR5385256\""
      ]
     },
     "metadata": {},
     "output_type": "display_data"
    }
   ],
   "source": [
    "list.files('.', pattern=\"salmon_output\")"
   ]
  },
  {
   "cell_type": "code",
   "execution_count": 46,
   "metadata": {
    "vscode": {
     "languageId": "r"
    }
   },
   "outputs": [
    {
     "name": "stderr",
     "output_type": "stream",
     "text": [
      "reading in files with read_tsv\n",
      "1 2 3 4 5 6 7 8 \n",
      "removing duplicated transcript rows from tx2gene\n",
      "transcripts missing from tx2gene: 1011\n",
      "summarizing abundance\n",
      "summarizing counts\n",
      "summarizing length\n"
     ]
    },
    {
     "data": {
      "text/html": [
       "<table>\n",
       "<thead><tr><th></th><th scope=col>Treg_LN_1</th><th scope=col>Treg_LN_2</th><th scope=col>Tconv_LN_1</th><th scope=col>Tconv_LN_2</th><th scope=col>Treg_Thym_1</th><th scope=col>Treg_Thym_2</th><th scope=col>Tconv_Thym_1</th><th scope=col>Tconv_Thym_2</th></tr></thead>\n",
       "<tbody>\n",
       "\t<tr><th scope=row>0610005C13Rik</th><td>0</td><td>0</td><td>0</td><td>0</td><td>0</td><td>0</td><td>0</td><td>0</td></tr>\n",
       "\t<tr><th scope=row>0610006L08Rik</th><td>0</td><td>0</td><td>0</td><td>0</td><td>0</td><td>0</td><td>0</td><td>0</td></tr>\n",
       "\t<tr><th scope=row>0610009B22Rik</th><td>0</td><td>0</td><td>0</td><td>0</td><td>0</td><td>0</td><td>0</td><td>0</td></tr>\n",
       "\t<tr><th scope=row>0610009E02Rik</th><td>0</td><td>0</td><td>0</td><td>0</td><td>0</td><td>0</td><td>0</td><td>0</td></tr>\n",
       "\t<tr><th scope=row>0610009L18Rik</th><td>0</td><td>0</td><td>0</td><td>0</td><td>0</td><td>0</td><td>0</td><td>0</td></tr>\n",
       "\t<tr><th scope=row>0610010F05Rik</th><td>0</td><td>0</td><td>0</td><td>0</td><td>0</td><td>0</td><td>0</td><td>0</td></tr>\n",
       "</tbody>\n",
       "</table>\n"
      ],
      "text/latex": [
       "\\begin{tabular}{r|llllllll}\n",
       "  & Treg\\_LN\\_1 & Treg\\_LN\\_2 & Tconv\\_LN\\_1 & Tconv\\_LN\\_2 & Treg\\_Thym\\_1 & Treg\\_Thym\\_2 & Tconv\\_Thym\\_1 & Tconv\\_Thym\\_2\\\\\n",
       "\\hline\n",
       "\t0610005C13Rik & 0 & 0 & 0 & 0 & 0 & 0 & 0 & 0\\\\\n",
       "\t0610006L08Rik & 0 & 0 & 0 & 0 & 0 & 0 & 0 & 0\\\\\n",
       "\t0610009B22Rik & 0 & 0 & 0 & 0 & 0 & 0 & 0 & 0\\\\\n",
       "\t0610009E02Rik & 0 & 0 & 0 & 0 & 0 & 0 & 0 & 0\\\\\n",
       "\t0610009L18Rik & 0 & 0 & 0 & 0 & 0 & 0 & 0 & 0\\\\\n",
       "\t0610010F05Rik & 0 & 0 & 0 & 0 & 0 & 0 & 0 & 0\\\\\n",
       "\\end{tabular}\n"
      ],
      "text/markdown": [
       "\n",
       "| <!--/--> | Treg_LN_1 | Treg_LN_2 | Tconv_LN_1 | Tconv_LN_2 | Treg_Thym_1 | Treg_Thym_2 | Tconv_Thym_1 | Tconv_Thym_2 | \n",
       "|---|---|---|---|---|---|\n",
       "| 0610005C13Rik | 0 | 0 | 0 | 0 | 0 | 0 | 0 | 0 | \n",
       "| 0610006L08Rik | 0 | 0 | 0 | 0 | 0 | 0 | 0 | 0 | \n",
       "| 0610009B22Rik | 0 | 0 | 0 | 0 | 0 | 0 | 0 | 0 | \n",
       "| 0610009E02Rik | 0 | 0 | 0 | 0 | 0 | 0 | 0 | 0 | \n",
       "| 0610009L18Rik | 0 | 0 | 0 | 0 | 0 | 0 | 0 | 0 | \n",
       "| 0610010F05Rik | 0 | 0 | 0 | 0 | 0 | 0 | 0 | 0 | \n",
       "\n",
       "\n"
      ],
      "text/plain": [
       "              Treg_LN_1 Treg_LN_2 Tconv_LN_1 Tconv_LN_2 Treg_Thym_1 Treg_Thym_2\n",
       "0610005C13Rik 0         0         0          0          0           0          \n",
       "0610006L08Rik 0         0         0          0          0           0          \n",
       "0610009B22Rik 0         0         0          0          0           0          \n",
       "0610009E02Rik 0         0         0          0          0           0          \n",
       "0610009L18Rik 0         0         0          0          0           0          \n",
       "0610010F05Rik 0         0         0          0          0           0          \n",
       "              Tconv_Thym_1 Tconv_Thym_2\n",
       "0610005C13Rik 0            0           \n",
       "0610006L08Rik 0            0           \n",
       "0610009B22Rik 0            0           \n",
       "0610009E02Rik 0            0           \n",
       "0610009L18Rik 0            0           \n",
       "0610010F05Rik 0            0           "
      ]
     },
     "metadata": {},
     "output_type": "display_data"
    }
   ],
   "source": [
    "files <- list.files('.',recursive=T, include.dirs=T, pattern='quant.sf')\n",
    "names(files) <- exp.table$name\n",
    "\n",
    "txi.salmon <- tximport(files, type = \"salmon\", tx2gene = tx2knownGene)\n",
    "head(txi.salmon$counts)"
   ]
  },
  {
   "cell_type": "code",
   "execution_count": 49,
   "metadata": {
    "vscode": {
     "languageId": "r"
    }
   },
   "outputs": [
    {
     "data": {
      "text/html": [
       "<table>\n",
       "<thead><tr><th scope=col>name</th><th scope=col>CellType</th><th scope=col>tissue_type</th></tr></thead>\n",
       "<tbody>\n",
       "\t<tr><td>Treg_LN_1   </td><td>Treg        </td><td>LymphNodes  </td></tr>\n",
       "\t<tr><td>Treg_LN_2   </td><td>Treg        </td><td>LymphNodes  </td></tr>\n",
       "\t<tr><td>Tconv_LN_1  </td><td>Tconv       </td><td>LymphNodes  </td></tr>\n",
       "\t<tr><td>Tconv_LN_2  </td><td>Tconv       </td><td>LymphNodes  </td></tr>\n",
       "\t<tr><td>Treg_Thym_1 </td><td>Treg        </td><td>Thymus      </td></tr>\n",
       "\t<tr><td>Treg_Thym_2 </td><td>Treg        </td><td>Thymus      </td></tr>\n",
       "\t<tr><td>Tconv_Thym_1</td><td>Tconv       </td><td>Thymus      </td></tr>\n",
       "\t<tr><td>Tconv_Thym_2</td><td>Tconv       </td><td>Thymus      </td></tr>\n",
       "</tbody>\n",
       "</table>\n"
      ],
      "text/latex": [
       "\\begin{tabular}{r|lll}\n",
       " name & CellType & tissue\\_type\\\\\n",
       "\\hline\n",
       "\t Treg\\_LN\\_1    & Treg             & LymphNodes      \\\\\n",
       "\t Treg\\_LN\\_2    & Treg             & LymphNodes      \\\\\n",
       "\t Tconv\\_LN\\_1   & Tconv            & LymphNodes      \\\\\n",
       "\t Tconv\\_LN\\_2   & Tconv            & LymphNodes      \\\\\n",
       "\t Treg\\_Thym\\_1  & Treg             & Thymus          \\\\\n",
       "\t Treg\\_Thym\\_2  & Treg             & Thymus          \\\\\n",
       "\t Tconv\\_Thym\\_1 & Tconv            & Thymus          \\\\\n",
       "\t Tconv\\_Thym\\_2 & Tconv            & Thymus          \\\\\n",
       "\\end{tabular}\n"
      ],
      "text/markdown": [
       "\n",
       "name | CellType | tissue_type | \n",
       "|---|---|---|---|---|---|---|---|\n",
       "| Treg_LN_1    | Treg         | LymphNodes   | \n",
       "| Treg_LN_2    | Treg         | LymphNodes   | \n",
       "| Tconv_LN_1   | Tconv        | LymphNodes   | \n",
       "| Tconv_LN_2   | Tconv        | LymphNodes   | \n",
       "| Treg_Thym_1  | Treg         | Thymus       | \n",
       "| Treg_Thym_2  | Treg         | Thymus       | \n",
       "| Tconv_Thym_1 | Tconv        | Thymus       | \n",
       "| Tconv_Thym_2 | Tconv        | Thymus       | \n",
       "\n",
       "\n"
      ],
      "text/plain": [
       "  name         CellType tissue_type\n",
       "1 Treg_LN_1    Treg     LymphNodes \n",
       "2 Treg_LN_2    Treg     LymphNodes \n",
       "3 Tconv_LN_1   Tconv    LymphNodes \n",
       "4 Tconv_LN_2   Tconv    LymphNodes \n",
       "5 Treg_Thym_1  Treg     Thymus     \n",
       "6 Treg_Thym_2  Treg     Thymus     \n",
       "7 Tconv_Thym_1 Tconv    Thymus     \n",
       "8 Tconv_Thym_2 Tconv    Thymus     "
      ]
     },
     "metadata": {},
     "output_type": "display_data"
    }
   ],
   "source": [
    "exp.table[-c(2,3)]"
   ]
  },
  {
   "cell_type": "code",
   "execution_count": null,
   "metadata": {
    "vscode": {
     "languageId": "r"
    }
   },
   "outputs": [],
   "source": []
  }
 ],
 "metadata": {
  "jupytext": {},
  "kernelspec": {
   "display_name": "R",
   "language": "R",
   "name": "ir"
  },
  "language_info": {
   "codemirror_mode": "r",
   "file_extension": ".r",
   "mimetype": "text/x-r-source",
   "name": "R",
   "pygments_lexer": "r",
   "version": "3.4.2"
  }
 },
 "nbformat": 4,
 "nbformat_minor": 2
}
